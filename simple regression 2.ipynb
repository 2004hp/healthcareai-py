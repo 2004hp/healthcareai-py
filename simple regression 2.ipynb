{
 "cells": [
  {
   "cell_type": "markdown",
   "metadata": {},
   "source": [
    "# Using healthcareai for regression\n",
    "\n",
    "## Load the libraries (TODO simplify this)"
   ]
  },
  {
   "cell_type": "code",
   "execution_count": 1,
   "metadata": {
    "collapsed": false
   },
   "outputs": [],
   "source": [
    "import pandas as pd\n",
    "import time\n",
    "import numpy as np\n",
    "\n",
    "import healthcareai.common.file_io_utilities as io\n",
    "import healthcareai.common.predict as predict\n",
    "import healthcareai.tests.helpers as helpers\n",
    "import healthcareai.pipelines.data_preparation as pipelines\n",
    "\n",
    "from healthcareai.simple_mode import SimpleDevelopSupervisedModel\n",
    "from healthcareai.simple_deploy_supervised_model import SimpleDeploySupervisedModel"
   ]
  },
  {
   "cell_type": "markdown",
   "metadata": {},
   "source": [
    "## Load the data"
   ]
  },
  {
   "cell_type": "code",
   "execution_count": 2,
   "metadata": {
    "collapsed": false
   },
   "outputs": [
    {
     "data": {
      "text/html": [
       "<div>\n",
       "<table border=\"1\" class=\"dataframe\">\n",
       "  <thead>\n",
       "    <tr style=\"text-align: right;\">\n",
       "      <th></th>\n",
       "      <th>PatientEncounterID</th>\n",
       "      <th>SystolicBPNBR</th>\n",
       "      <th>LDLNBR</th>\n",
       "      <th>A1CNBR</th>\n",
       "      <th>GenderFLG</th>\n",
       "      <th>ThirtyDayReadmitFLG</th>\n",
       "    </tr>\n",
       "  </thead>\n",
       "  <tbody>\n",
       "    <tr>\n",
       "      <th>0</th>\n",
       "      <td>1</td>\n",
       "      <td>167.0</td>\n",
       "      <td>195.0</td>\n",
       "      <td>4.2</td>\n",
       "      <td>M</td>\n",
       "      <td>N</td>\n",
       "    </tr>\n",
       "    <tr>\n",
       "      <th>1</th>\n",
       "      <td>2</td>\n",
       "      <td>153.0</td>\n",
       "      <td>214.0</td>\n",
       "      <td>5.0</td>\n",
       "      <td>M</td>\n",
       "      <td>N</td>\n",
       "    </tr>\n",
       "    <tr>\n",
       "      <th>2</th>\n",
       "      <td>3</td>\n",
       "      <td>170.0</td>\n",
       "      <td>191.0</td>\n",
       "      <td>4.0</td>\n",
       "      <td>M</td>\n",
       "      <td>N</td>\n",
       "    </tr>\n",
       "    <tr>\n",
       "      <th>3</th>\n",
       "      <td>4</td>\n",
       "      <td>187.0</td>\n",
       "      <td>135.0</td>\n",
       "      <td>4.4</td>\n",
       "      <td>M</td>\n",
       "      <td>N</td>\n",
       "    </tr>\n",
       "    <tr>\n",
       "      <th>4</th>\n",
       "      <td>5</td>\n",
       "      <td>188.0</td>\n",
       "      <td>125.0</td>\n",
       "      <td>4.3</td>\n",
       "      <td>M</td>\n",
       "      <td>N</td>\n",
       "    </tr>\n",
       "  </tbody>\n",
       "</table>\n",
       "</div>"
      ],
      "text/plain": [
       "   PatientEncounterID  SystolicBPNBR  LDLNBR  A1CNBR GenderFLG  \\\n",
       "0                   1          167.0   195.0     4.2         M   \n",
       "1                   2          153.0   214.0     5.0         M   \n",
       "2                   3          170.0   191.0     4.0         M   \n",
       "3                   4          187.0   135.0     4.4         M   \n",
       "4                   5          188.0   125.0     4.3         M   \n",
       "\n",
       "  ThirtyDayReadmitFLG  \n",
       "0                   N  \n",
       "1                   N  \n",
       "2                   N  \n",
       "3                   N  \n",
       "4                   N  "
      ]
     },
     "execution_count": 2,
     "metadata": {},
     "output_type": "execute_result"
    }
   ],
   "source": [
    "df = pd.read_csv(helpers.fixture('DiabetesClincialSampleData.csv'), na_values=['None'])\n",
    "\n",
    "# Drop columns that won't help machine learning\n",
    "df.drop(['PatientID', 'InTestWindowFLG'], axis=1, inplace=True)\n",
    "\n",
    "# Look at the first few rows of your dataframe after the data preparation\n",
    "df.head()"
   ]
  },
  {
   "cell_type": "markdown",
   "metadata": {},
   "source": [
    "## Train a model"
   ]
  },
  {
   "cell_type": "code",
   "execution_count": 3,
   "metadata": {
    "collapsed": false
   },
   "outputs": [
    {
     "name": "stdout",
     "output_type": "stream",
     "text": [
      "Training linear_regression\n",
      "No randomized search. Using <class 'sklearn.linear_model.base.LinearRegression'>\n",
      "{'mean_squared_error': 638.67516416733338, 'mean_absolute_error': 20.750708464344861}\n",
      "Model trained in 0.038100242614746094 seconds\n",
      "model saved as linear_regression_2017-04-18.pkl\n"
     ]
    }
   ],
   "source": [
    "# Start a timer\n",
    "t0 = time.time()\n",
    "\n",
    "# Step 1: Setup healthcareai for developing a regression model.\n",
    "hcai = SimpleDevelopSupervisedModel(df,\n",
    "                                    'SystolicBPNBR',\n",
    "                                    'regression',\n",
    "                                    impute=True,\n",
    "                                    grain_column='PatientEncounterID')\n",
    "\n",
    "# Train the linear regression model\n",
    "trained_linear_model = hcai.linear_regression()\n",
    "print('Model trained in {} seconds'.format(time.time() - t0))\n",
    "\n",
    "# Once you are happy with the result of the trained model, it is time to save the model.\n",
    "saved_model_filename = 'linear_regression_2017-04-18.pkl'\n",
    "io.save_object_as_pickle(saved_model_filename, trained_linear_model)\n",
    "print('model saved as {}'.format(saved_model_filename))"
   ]
  },
  {
   "cell_type": "markdown",
   "metadata": {},
   "source": [
    "## Make some predictions\n",
    "\n",
    "### First load a new dataframe and drop some columns"
   ]
  },
  {
   "cell_type": "code",
   "execution_count": 10,
   "metadata": {
    "collapsed": false,
    "scrolled": true
   },
   "outputs": [],
   "source": [
    "prediction_dataframe = pd.read_csv('healthcareai/tests/fixtures/DiabetesClincialSampleData.csv', na_values=['None'])\n",
    "\n",
    "# Set None string to be None type\n",
    "prediction_dataframe.replace(['None'], [None], inplace=True)\n",
    "\n",
    "# Drop columns that won't help machine learning\n",
    "prediction_dataframe.drop(['PatientID', 'InTestWindowFLG'], axis=1, inplace=True)\n",
    "\n",
    "# Run through the preparation pipeline\n",
    "# TODO this may have implications for null values\n",
    "prediction_dataframe = pipelines.dataframe_prediction(\n",
    "    prediction_dataframe,\n",
    "    'regression',\n",
    "    'PatientEncounterID',\n",
    "    'SystolicBPNBR',\n",
    "    impute=True)"
   ]
  },
  {
   "cell_type": "markdown",
   "metadata": {},
   "source": [
    "### Load the saved model and predict!"
   ]
  },
  {
   "cell_type": "code",
   "execution_count": 11,
   "metadata": {
    "collapsed": false
   },
   "outputs": [
    {
     "data": {
      "text/html": [
       "<div>\n",
       "<table border=\"1\" class=\"dataframe\">\n",
       "  <thead>\n",
       "    <tr style=\"text-align: right;\">\n",
       "      <th></th>\n",
       "      <th>LDLNBR</th>\n",
       "      <th>A1CNBR</th>\n",
       "      <th>GenderFLG.M</th>\n",
       "      <th>ThirtyDayReadmitFLG.Y</th>\n",
       "      <th>SystolicBPNBR_predicted</th>\n",
       "    </tr>\n",
       "  </thead>\n",
       "  <tbody>\n",
       "    <tr>\n",
       "      <th>0</th>\n",
       "      <td>195.0</td>\n",
       "      <td>4.2</td>\n",
       "      <td>1</td>\n",
       "      <td>0</td>\n",
       "      <td>148.931936</td>\n",
       "    </tr>\n",
       "    <tr>\n",
       "      <th>1</th>\n",
       "      <td>214.0</td>\n",
       "      <td>5.0</td>\n",
       "      <td>1</td>\n",
       "      <td>0</td>\n",
       "      <td>148.035750</td>\n",
       "    </tr>\n",
       "    <tr>\n",
       "      <th>2</th>\n",
       "      <td>191.0</td>\n",
       "      <td>4.0</td>\n",
       "      <td>1</td>\n",
       "      <td>0</td>\n",
       "      <td>149.141533</td>\n",
       "    </tr>\n",
       "    <tr>\n",
       "      <th>3</th>\n",
       "      <td>135.0</td>\n",
       "      <td>4.4</td>\n",
       "      <td>1</td>\n",
       "      <td>0</td>\n",
       "      <td>149.955368</td>\n",
       "    </tr>\n",
       "    <tr>\n",
       "      <th>4</th>\n",
       "      <td>125.0</td>\n",
       "      <td>4.3</td>\n",
       "      <td>1</td>\n",
       "      <td>0</td>\n",
       "      <td>150.214295</td>\n",
       "    </tr>\n",
       "  </tbody>\n",
       "</table>\n",
       "</div>"
      ],
      "text/plain": [
       "   LDLNBR  A1CNBR  GenderFLG.M  ThirtyDayReadmitFLG.Y  SystolicBPNBR_predicted\n",
       "0   195.0     4.2            1                      0               148.931936\n",
       "1   214.0     5.0            1                      0               148.035750\n",
       "2   191.0     4.0            1                      0               149.141533\n",
       "3   135.0     4.4            1                      0               149.955368\n",
       "4   125.0     4.3            1                      0               150.214295"
      ]
     },
     "execution_count": 11,
     "metadata": {},
     "output_type": "execute_result"
    }
   ],
   "source": [
    "# Load the saved model\n",
    "linear_model = io.load_saved_model(saved_model_filename)\n",
    "\n",
    "# Make some prections\n",
    "predictions = linear_model.predict(prediction_dataframe)\n",
    "\n",
    "# Save the predictions back to your dataframe\n",
    "prediction_dataframe['SystolicBPNBR_predicted'] = predictions\n",
    "\n",
    "# Peek at the predictions\n",
    "prediction_dataframe.head()"
   ]
  }
 ],
 "metadata": {
  "kernelspec": {
   "display_name": "Python 3",
   "language": "python",
   "name": "python3"
  },
  "language_info": {
   "codemirror_mode": {
    "name": "ipython",
    "version": 3
   },
   "file_extension": ".py",
   "mimetype": "text/x-python",
   "name": "python",
   "nbconvert_exporter": "python",
   "pygments_lexer": "ipython3",
   "version": "3.6.0"
  }
 },
 "nbformat": 4,
 "nbformat_minor": 0
}
